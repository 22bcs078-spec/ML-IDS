{
  "nbformat": 4,
  "nbformat_minor": 0,
  "metadata": {
    "colab": {
      "provenance": []
    },
    "kernelspec": {
      "name": "python3",
      "display_name": "Python 3"
    },
    "language_info": {
      "name": "python"
    }
  },
  "cells": [
    {
      "cell_type": "code",
      "execution_count": 2,
      "metadata": {
        "colab": {
          "base_uri": "https://localhost:8080/"
        },
        "id": "pxSDX0p4K5Bs",
        "outputId": "83b35f59-e86c-4421-c6f1-2cd072e68840"
      },
      "outputs": [
        {
          "output_type": "stream",
          "name": "stdout",
          "text": [
            "    Destination Port   Flow Duration   Total Fwd Packets  \\\n",
            "0              54865               3                   2   \n",
            "1              55054             109                   1   \n",
            "2              55055              52                   1   \n",
            "3              46236              34                   1   \n",
            "4              54863               3                   2   \n",
            "\n",
            "    Total Backward Packets  Total Length of Fwd Packets  \\\n",
            "0                        0                           12   \n",
            "1                        1                            6   \n",
            "2                        1                            6   \n",
            "3                        1                            6   \n",
            "4                        0                           12   \n",
            "\n",
            "    Total Length of Bwd Packets   Fwd Packet Length Max  \\\n",
            "0                             0                       6   \n",
            "1                             6                       6   \n",
            "2                             6                       6   \n",
            "3                             6                       6   \n",
            "4                             0                       6   \n",
            "\n",
            "    Fwd Packet Length Min   Fwd Packet Length Mean   Fwd Packet Length Std  \\\n",
            "0                       6                      6.0                     0.0   \n",
            "1                       6                      6.0                     0.0   \n",
            "2                       6                      6.0                     0.0   \n",
            "3                       6                      6.0                     0.0   \n",
            "4                       6                      6.0                     0.0   \n",
            "\n",
            "   ...   min_seg_size_forward  Active Mean   Active Std   Active Max  \\\n",
            "0  ...                     20          0.0          0.0            0   \n",
            "1  ...                     20          0.0          0.0            0   \n",
            "2  ...                     20          0.0          0.0            0   \n",
            "3  ...                     20          0.0          0.0            0   \n",
            "4  ...                     20          0.0          0.0            0   \n",
            "\n",
            "    Active Min  Idle Mean   Idle Std   Idle Max   Idle Min   Label  \n",
            "0            0        0.0        0.0          0          0  BENIGN  \n",
            "1            0        0.0        0.0          0          0  BENIGN  \n",
            "2            0        0.0        0.0          0          0  BENIGN  \n",
            "3            0        0.0        0.0          0          0  BENIGN  \n",
            "4            0        0.0        0.0          0          0  BENIGN  \n",
            "\n",
            "[5 rows x 79 columns]\n",
            "(225745, 79)\n",
            "Index([' Destination Port', ' Flow Duration', ' Total Fwd Packets',\n",
            "       ' Total Backward Packets', 'Total Length of Fwd Packets',\n",
            "       ' Total Length of Bwd Packets', ' Fwd Packet Length Max',\n",
            "       ' Fwd Packet Length Min', ' Fwd Packet Length Mean',\n",
            "       ' Fwd Packet Length Std', 'Bwd Packet Length Max',\n",
            "       ' Bwd Packet Length Min', ' Bwd Packet Length Mean',\n",
            "       ' Bwd Packet Length Std', 'Flow Bytes/s', ' Flow Packets/s',\n",
            "       ' Flow IAT Mean', ' Flow IAT Std', ' Flow IAT Max', ' Flow IAT Min',\n",
            "       'Fwd IAT Total', ' Fwd IAT Mean', ' Fwd IAT Std', ' Fwd IAT Max',\n",
            "       ' Fwd IAT Min', 'Bwd IAT Total', ' Bwd IAT Mean', ' Bwd IAT Std',\n",
            "       ' Bwd IAT Max', ' Bwd IAT Min', 'Fwd PSH Flags', ' Bwd PSH Flags',\n",
            "       ' Fwd URG Flags', ' Bwd URG Flags', ' Fwd Header Length',\n",
            "       ' Bwd Header Length', 'Fwd Packets/s', ' Bwd Packets/s',\n",
            "       ' Min Packet Length', ' Max Packet Length', ' Packet Length Mean',\n",
            "       ' Packet Length Std', ' Packet Length Variance', 'FIN Flag Count',\n",
            "       ' SYN Flag Count', ' RST Flag Count', ' PSH Flag Count',\n",
            "       ' ACK Flag Count', ' URG Flag Count', ' CWE Flag Count',\n",
            "       ' ECE Flag Count', ' Down/Up Ratio', ' Average Packet Size',\n",
            "       ' Avg Fwd Segment Size', ' Avg Bwd Segment Size',\n",
            "       ' Fwd Header Length.1', 'Fwd Avg Bytes/Bulk', ' Fwd Avg Packets/Bulk',\n",
            "       ' Fwd Avg Bulk Rate', ' Bwd Avg Bytes/Bulk', ' Bwd Avg Packets/Bulk',\n",
            "       'Bwd Avg Bulk Rate', 'Subflow Fwd Packets', ' Subflow Fwd Bytes',\n",
            "       ' Subflow Bwd Packets', ' Subflow Bwd Bytes', 'Init_Win_bytes_forward',\n",
            "       ' Init_Win_bytes_backward', ' act_data_pkt_fwd',\n",
            "       ' min_seg_size_forward', 'Active Mean', ' Active Std', ' Active Max',\n",
            "       ' Active Min', 'Idle Mean', ' Idle Std', ' Idle Max', ' Idle Min',\n",
            "       ' Label'],\n",
            "      dtype='object')\n",
            "<class 'pandas.core.frame.DataFrame'>\n",
            "RangeIndex: 225745 entries, 0 to 225744\n",
            "Data columns (total 79 columns):\n",
            " #   Column                        Non-Null Count   Dtype  \n",
            "---  ------                        --------------   -----  \n",
            " 0    Destination Port             225745 non-null  int64  \n",
            " 1    Flow Duration                225745 non-null  int64  \n",
            " 2    Total Fwd Packets            225745 non-null  int64  \n",
            " 3    Total Backward Packets       225745 non-null  int64  \n",
            " 4   Total Length of Fwd Packets   225745 non-null  int64  \n",
            " 5    Total Length of Bwd Packets  225745 non-null  int64  \n",
            " 6    Fwd Packet Length Max        225745 non-null  int64  \n",
            " 7    Fwd Packet Length Min        225745 non-null  int64  \n",
            " 8    Fwd Packet Length Mean       225745 non-null  float64\n",
            " 9    Fwd Packet Length Std        225745 non-null  float64\n",
            " 10  Bwd Packet Length Max         225745 non-null  int64  \n",
            " 11   Bwd Packet Length Min        225745 non-null  int64  \n",
            " 12   Bwd Packet Length Mean       225745 non-null  float64\n",
            " 13   Bwd Packet Length Std        225745 non-null  float64\n",
            " 14  Flow Bytes/s                  225741 non-null  float64\n",
            " 15   Flow Packets/s               225745 non-null  float64\n",
            " 16   Flow IAT Mean                225745 non-null  float64\n",
            " 17   Flow IAT Std                 225745 non-null  float64\n",
            " 18   Flow IAT Max                 225745 non-null  int64  \n",
            " 19   Flow IAT Min                 225745 non-null  int64  \n",
            " 20  Fwd IAT Total                 225745 non-null  int64  \n",
            " 21   Fwd IAT Mean                 225745 non-null  float64\n",
            " 22   Fwd IAT Std                  225745 non-null  float64\n",
            " 23   Fwd IAT Max                  225745 non-null  int64  \n",
            " 24   Fwd IAT Min                  225745 non-null  int64  \n",
            " 25  Bwd IAT Total                 225745 non-null  int64  \n",
            " 26   Bwd IAT Mean                 225745 non-null  float64\n",
            " 27   Bwd IAT Std                  225745 non-null  float64\n",
            " 28   Bwd IAT Max                  225745 non-null  int64  \n",
            " 29   Bwd IAT Min                  225745 non-null  int64  \n",
            " 30  Fwd PSH Flags                 225745 non-null  int64  \n",
            " 31   Bwd PSH Flags                225745 non-null  int64  \n",
            " 32   Fwd URG Flags                225745 non-null  int64  \n",
            " 33   Bwd URG Flags                225745 non-null  int64  \n",
            " 34   Fwd Header Length            225745 non-null  int64  \n",
            " 35   Bwd Header Length            225745 non-null  int64  \n",
            " 36  Fwd Packets/s                 225745 non-null  float64\n",
            " 37   Bwd Packets/s                225745 non-null  float64\n",
            " 38   Min Packet Length            225745 non-null  int64  \n",
            " 39   Max Packet Length            225745 non-null  int64  \n",
            " 40   Packet Length Mean           225745 non-null  float64\n",
            " 41   Packet Length Std            225745 non-null  float64\n",
            " 42   Packet Length Variance       225745 non-null  float64\n",
            " 43  FIN Flag Count                225745 non-null  int64  \n",
            " 44   SYN Flag Count               225745 non-null  int64  \n",
            " 45   RST Flag Count               225745 non-null  int64  \n",
            " 46   PSH Flag Count               225745 non-null  int64  \n",
            " 47   ACK Flag Count               225745 non-null  int64  \n",
            " 48   URG Flag Count               225745 non-null  int64  \n",
            " 49   CWE Flag Count               225745 non-null  int64  \n",
            " 50   ECE Flag Count               225745 non-null  int64  \n",
            " 51   Down/Up Ratio                225745 non-null  int64  \n",
            " 52   Average Packet Size          225745 non-null  float64\n",
            " 53   Avg Fwd Segment Size         225745 non-null  float64\n",
            " 54   Avg Bwd Segment Size         225745 non-null  float64\n",
            " 55   Fwd Header Length.1          225745 non-null  int64  \n",
            " 56  Fwd Avg Bytes/Bulk            225745 non-null  int64  \n",
            " 57   Fwd Avg Packets/Bulk         225745 non-null  int64  \n",
            " 58   Fwd Avg Bulk Rate            225745 non-null  int64  \n",
            " 59   Bwd Avg Bytes/Bulk           225745 non-null  int64  \n",
            " 60   Bwd Avg Packets/Bulk         225745 non-null  int64  \n",
            " 61  Bwd Avg Bulk Rate             225745 non-null  int64  \n",
            " 62  Subflow Fwd Packets           225745 non-null  int64  \n",
            " 63   Subflow Fwd Bytes            225745 non-null  int64  \n",
            " 64   Subflow Bwd Packets          225745 non-null  int64  \n",
            " 65   Subflow Bwd Bytes            225745 non-null  int64  \n",
            " 66  Init_Win_bytes_forward        225745 non-null  int64  \n",
            " 67   Init_Win_bytes_backward      225745 non-null  int64  \n",
            " 68   act_data_pkt_fwd             225745 non-null  int64  \n",
            " 69   min_seg_size_forward         225745 non-null  int64  \n",
            " 70  Active Mean                   225745 non-null  float64\n",
            " 71   Active Std                   225745 non-null  float64\n",
            " 72   Active Max                   225745 non-null  int64  \n",
            " 73   Active Min                   225745 non-null  int64  \n",
            " 74  Idle Mean                     225745 non-null  float64\n",
            " 75   Idle Std                     225745 non-null  float64\n",
            " 76   Idle Max                     225745 non-null  int64  \n",
            " 77   Idle Min                     225745 non-null  int64  \n",
            " 78   Label                        225745 non-null  object \n",
            "dtypes: float64(24), int64(54), object(1)\n",
            "memory usage: 136.1+ MB\n",
            "None\n",
            "        Destination Port   Flow Duration   Total Fwd Packets  \\\n",
            "count       225745.00000    2.257450e+05       225745.000000   \n",
            "mean          8879.61946    1.624165e+07            4.874916   \n",
            "std          19754.64740    3.152437e+07           15.422874   \n",
            "min              0.00000   -1.000000e+00            1.000000   \n",
            "25%             80.00000    7.118000e+04            2.000000   \n",
            "50%             80.00000    1.452333e+06            3.000000   \n",
            "75%             80.00000    8.805237e+06            5.000000   \n",
            "max          65532.00000    1.199999e+08         1932.000000   \n",
            "\n",
            "        Total Backward Packets  Total Length of Fwd Packets  \\\n",
            "count            225745.000000                225745.000000   \n",
            "mean                  4.572775                   939.463346   \n",
            "std                  21.755356                  3249.403484   \n",
            "min                   0.000000                     0.000000   \n",
            "25%                   1.000000                    26.000000   \n",
            "50%                   4.000000                    30.000000   \n",
            "75%                   5.000000                    63.000000   \n",
            "max                2942.000000                183012.000000   \n",
            "\n",
            "        Total Length of Bwd Packets   Fwd Packet Length Max  \\\n",
            "count                  2.257450e+05           225745.000000   \n",
            "mean                   5.960477e+03              538.535693   \n",
            "std                    3.921834e+04             1864.128991   \n",
            "min                    0.000000e+00                0.000000   \n",
            "25%                    0.000000e+00                6.000000   \n",
            "50%                    1.640000e+02               20.000000   \n",
            "75%                    1.160100e+04               34.000000   \n",
            "max                    5.172346e+06            11680.000000   \n",
            "\n",
            "        Fwd Packet Length Min   Fwd Packet Length Mean  \\\n",
            "count           225745.000000            225745.000000   \n",
            "mean                27.882221               164.826715   \n",
            "std                163.324159               504.892965   \n",
            "min                  0.000000                 0.000000   \n",
            "25%                  0.000000                 6.000000   \n",
            "50%                  0.000000                 8.666667   \n",
            "75%                  6.000000                32.000000   \n",
            "max               1472.000000              3867.000000   \n",
            "\n",
            "        Fwd Packet Length Std  ...   act_data_pkt_fwd   min_seg_size_forward  \\\n",
            "count           225745.000000  ...      225745.000000          225745.000000   \n",
            "mean               214.907242  ...           3.311497              21.482753   \n",
            "std                797.411073  ...          12.270018               4.166799   \n",
            "min                  0.000000  ...           0.000000               0.000000   \n",
            "25%                  0.000000  ...           1.000000              20.000000   \n",
            "50%                  5.301991  ...           2.000000              20.000000   \n",
            "75%                 10.263203  ...           4.000000              20.000000   \n",
            "max               6692.644993  ...        1931.000000              52.000000   \n",
            "\n",
            "        Active Mean    Active Std    Active Max    Active Min     Idle Mean  \\\n",
            "count  2.257450e+05  2.257450e+05  2.257450e+05  2.257450e+05  2.257450e+05   \n",
            "mean   1.848261e+05  1.293436e+04  2.080849e+05  1.776201e+05  1.032214e+07   \n",
            "std    7.979250e+05  2.102737e+05  9.002350e+05  7.842602e+05  2.185303e+07   \n",
            "min    0.000000e+00  0.000000e+00  0.000000e+00  0.000000e+00  0.000000e+00   \n",
            "25%    0.000000e+00  0.000000e+00  0.000000e+00  0.000000e+00  0.000000e+00   \n",
            "50%    0.000000e+00  0.000000e+00  0.000000e+00  0.000000e+00  0.000000e+00   \n",
            "75%    1.878000e+03  0.000000e+00  1.878000e+03  1.862000e+03  8.239725e+06   \n",
            "max    1.000000e+08  3.950000e+07  1.000000e+08  1.000000e+08  1.200000e+08   \n",
            "\n",
            "           Idle Std      Idle Max      Idle Min  \n",
            "count  2.257450e+05  2.257450e+05  2.257450e+05  \n",
            "mean   3.611943e+06  1.287813e+07  7.755355e+06  \n",
            "std    1.275689e+07  2.692126e+07  1.983109e+07  \n",
            "min    0.000000e+00  0.000000e+00  0.000000e+00  \n",
            "25%    0.000000e+00  0.000000e+00  0.000000e+00  \n",
            "50%    0.000000e+00  0.000000e+00  0.000000e+00  \n",
            "75%    0.000000e+00  8.253838e+06  7.422849e+06  \n",
            "max    6.530000e+07  1.200000e+08  1.200000e+08  \n",
            "\n",
            "[8 rows x 78 columns]\n"
          ]
        }
      ],
      "source": [
        "import pandas as pd\n",
        "\n",
        "df = pd.read_csv(\"/content/drive/MyDrive/Cybersecurity/dataset/Friday-WorkingHours-Afternoon-DDos.pcap_ISCX.csv\")\n",
        "print(df.head())\n",
        "print(df.shape)        # rows, columns\n",
        "print(df.columns)      # column names\n",
        "print(df.info())       # datatypes, nulls\n",
        "print(df.describe())   # statistics for numeric columns\n"
      ]
    },
    {
      "cell_type": "code",
      "source": [
        "print(df.isnull().sum().sort_values(ascending=False).head(10))\n"
      ],
      "metadata": {
        "colab": {
          "base_uri": "https://localhost:8080/"
        },
        "id": "_i8HWLdEN-0u",
        "outputId": "05dbc62f-8d09-4aa3-8f18-1cadccdcc0ef"
      },
      "execution_count": 3,
      "outputs": [
        {
          "output_type": "stream",
          "name": "stdout",
          "text": [
            "Flow Bytes/s                    4\n",
            " Flow Duration                  0\n",
            " Destination Port               0\n",
            " Total Backward Packets         0\n",
            "Total Length of Fwd Packets     0\n",
            " Total Length of Bwd Packets    0\n",
            " Total Fwd Packets              0\n",
            " Fwd Packet Length Max          0\n",
            " Fwd Packet Length Min          0\n",
            " Fwd Packet Length Std          0\n",
            "dtype: int64\n"
          ]
        }
      ]
    },
    {
      "cell_type": "code",
      "source": [
        "# Remove leading/trailing spaces from column names\n",
        "df.columns = df.columns.str.strip()\n",
        "\n",
        "print(df.columns[:10])  # check first 10 columns\n"
      ],
      "metadata": {
        "colab": {
          "base_uri": "https://localhost:8080/"
        },
        "id": "gcgnoAhZOjRq",
        "outputId": "546f158e-8d7d-480c-c381-7867e10c4b5c"
      },
      "execution_count": 5,
      "outputs": [
        {
          "output_type": "stream",
          "name": "stdout",
          "text": [
            "Index(['Destination Port', 'Flow Duration', 'Total Fwd Packets',\n",
            "       'Total Backward Packets', 'Total Length of Fwd Packets',\n",
            "       'Total Length of Bwd Packets', 'Fwd Packet Length Max',\n",
            "       'Fwd Packet Length Min', 'Fwd Packet Length Mean',\n",
            "       'Fwd Packet Length Std'],\n",
            "      dtype='object')\n"
          ]
        }
      ]
    },
    {
      "cell_type": "code",
      "source": [
        "df = df.dropna(subset=['Flow Bytes/s'])\n"
      ],
      "metadata": {
        "id": "CUuj3Xw-OQYF"
      },
      "execution_count": 6,
      "outputs": []
    },
    {
      "cell_type": "code",
      "source": [
        "print(df.isnull().sum().sort_values(ascending=False).head(10))"
      ],
      "metadata": {
        "colab": {
          "base_uri": "https://localhost:8080/"
        },
        "id": "uAmguz0EOwAL",
        "outputId": "1ea2b8ef-3d5e-443f-dad8-07e4dc62cb47"
      },
      "execution_count": 7,
      "outputs": [
        {
          "output_type": "stream",
          "name": "stdout",
          "text": [
            "Destination Port               0\n",
            "Flow Duration                  0\n",
            "Total Fwd Packets              0\n",
            "Total Backward Packets         0\n",
            "Total Length of Fwd Packets    0\n",
            "Total Length of Bwd Packets    0\n",
            "Fwd Packet Length Max          0\n",
            "Fwd Packet Length Min          0\n",
            "Fwd Packet Length Mean         0\n",
            "Fwd Packet Length Std          0\n",
            "dtype: int64\n"
          ]
        }
      ]
    },
    {
      "cell_type": "code",
      "source": [
        "print(df.columns[-5:])   # look at last few columns\n",
        "print(df['Label'].unique())  # or df[' Label'] if there's still a space\n"
      ],
      "metadata": {
        "colab": {
          "base_uri": "https://localhost:8080/"
        },
        "id": "INqwAmGLPHpF",
        "outputId": "52d44596-a85f-43c5-d817-c13048104a25"
      },
      "execution_count": 9,
      "outputs": [
        {
          "output_type": "stream",
          "name": "stdout",
          "text": [
            "Index(['Idle Mean', 'Idle Std', 'Idle Max', 'Idle Min', 'Label'], dtype='object')\n",
            "['BENIGN' 'DDoS']\n"
          ]
        }
      ]
    },
    {
      "cell_type": "code",
      "source": [
        "from sklearn.preprocessing import LabelEncoder\n",
        "\n",
        "df['Label'] = LabelEncoder().fit_transform(df['Label'])\n"
      ],
      "metadata": {
        "id": "zrm-ryhKPZEu"
      },
      "execution_count": 10,
      "outputs": []
    }
  ]
}